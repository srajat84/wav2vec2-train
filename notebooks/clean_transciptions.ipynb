{
 "cells": [
  {
   "cell_type": "code",
   "execution_count": 4,
   "metadata": {},
   "outputs": [],
   "source": [
    "import pandas as pd\n",
    "import re"
   ]
  },
  {
   "cell_type": "code",
   "execution_count": 2,
   "metadata": {},
   "outputs": [
    {
     "data": {
      "text/html": [
       "<div>\n",
       "<style scoped>\n",
       "    .dataframe tbody tr th:only-of-type {\n",
       "        vertical-align: middle;\n",
       "    }\n",
       "\n",
       "    .dataframe tbody tr th {\n",
       "        vertical-align: top;\n",
       "    }\n",
       "\n",
       "    .dataframe thead th {\n",
       "        text-align: right;\n",
       "    }\n",
       "</style>\n",
       "<table border=\"1\" class=\"dataframe\">\n",
       "  <thead>\n",
       "    <tr style=\"text-align: right;\">\n",
       "      <th></th>\n",
       "      <th>segment_id</th>\n",
       "      <th>file_id</th>\n",
       "      <th>start_time</th>\n",
       "      <th>end_time</th>\n",
       "      <th>transcription</th>\n",
       "      <th>file_path</th>\n",
       "      <th>duration</th>\n",
       "    </tr>\n",
       "  </thead>\n",
       "  <tbody>\n",
       "    <tr>\n",
       "      <th>0</th>\n",
       "      <td>106101061_lec005_002</td>\n",
       "      <td>106101061_lec005</td>\n",
       "      <td>57.519</td>\n",
       "      <td>63.249</td>\n",
       "      <td>IDEA OF A SOFTWARE DEVELOPMENT PROCESS AND WHA...</td>\n",
       "      <td>NPTEL_IITM_English_Challenge/Train_Dev/wav/NPT...</td>\n",
       "      <td>5.729999</td>\n",
       "    </tr>\n",
       "    <tr>\n",
       "      <th>1</th>\n",
       "      <td>106101061_lec005_004</td>\n",
       "      <td>106101061_lec005</td>\n",
       "      <td>68.220</td>\n",
       "      <td>73.570</td>\n",
       "      <td>EACH ONE OF THESE STEPS IN GREATER DETAIL AND ...</td>\n",
       "      <td>NPTEL_IITM_English_Challenge/Train_Dev/wav/NPT...</td>\n",
       "      <td>5.349998</td>\n",
       "    </tr>\n",
       "    <tr>\n",
       "      <th>2</th>\n",
       "      <td>106101061_lec005_005</td>\n",
       "      <td>106101061_lec005</td>\n",
       "      <td>73.570</td>\n",
       "      <td>79.929</td>\n",
       "      <td>OF THESE STAGES. THE FIRST STAGE IN THE PROCES...</td>\n",
       "      <td>NPTEL_IITM_English_Challenge/Train_Dev/wav/NPT...</td>\n",
       "      <td>6.359001</td>\n",
       "    </tr>\n",
       "    <tr>\n",
       "      <th>3</th>\n",
       "      <td>106101061_lec005_013</td>\n",
       "      <td>106101061_lec005</td>\n",
       "      <td>118.940</td>\n",
       "      <td>123.459</td>\n",
       "      <td>SPECIFICATIONS, AND TO TAKE A LOOK AT HOW THES...</td>\n",
       "      <td>NPTEL_IITM_English_Challenge/Train_Dev/wav/NPT...</td>\n",
       "      <td>4.518997</td>\n",
       "    </tr>\n",
       "    <tr>\n",
       "      <th>4</th>\n",
       "      <td>106101061_lec005_022</td>\n",
       "      <td>106101061_lec005</td>\n",
       "      <td>167.830</td>\n",
       "      <td>173.420</td>\n",
       "      <td>CONSTRAINTS UNDER WHICH THE SYSTEM IS EXPECTED...</td>\n",
       "      <td>NPTEL_IITM_English_Challenge/Train_Dev/wav/NPT...</td>\n",
       "      <td>5.589996</td>\n",
       "    </tr>\n",
       "  </tbody>\n",
       "</table>\n",
       "</div>"
      ],
      "text/plain": [
       "             segment_id           file_id  start_time  end_time  \\\n",
       "0  106101061_lec005_002  106101061_lec005      57.519    63.249   \n",
       "1  106101061_lec005_004  106101061_lec005      68.220    73.570   \n",
       "2  106101061_lec005_005  106101061_lec005      73.570    79.929   \n",
       "3  106101061_lec005_013  106101061_lec005     118.940   123.459   \n",
       "4  106101061_lec005_022  106101061_lec005     167.830   173.420   \n",
       "\n",
       "                                       transcription  \\\n",
       "0  IDEA OF A SOFTWARE DEVELOPMENT PROCESS AND WHA...   \n",
       "1  EACH ONE OF THESE STEPS IN GREATER DETAIL AND ...   \n",
       "2  OF THESE STAGES. THE FIRST STAGE IN THE PROCES...   \n",
       "3  SPECIFICATIONS, AND TO TAKE A LOOK AT HOW THES...   \n",
       "4  CONSTRAINTS UNDER WHICH THE SYSTEM IS EXPECTED...   \n",
       "\n",
       "                                           file_path  duration  \n",
       "0  NPTEL_IITM_English_Challenge/Train_Dev/wav/NPT...  5.729999  \n",
       "1  NPTEL_IITM_English_Challenge/Train_Dev/wav/NPT...  5.349998  \n",
       "2  NPTEL_IITM_English_Challenge/Train_Dev/wav/NPT...  6.359001  \n",
       "3  NPTEL_IITM_English_Challenge/Train_Dev/wav/NPT...  4.518997  \n",
       "4  NPTEL_IITM_English_Challenge/Train_Dev/wav/NPT...  5.589996  "
      ]
     },
     "execution_count": 2,
     "metadata": {},
     "output_type": "execute_result"
    }
   ],
   "source": [
    "df = pd.read_csv('./train_NPTEL_IITM/train_NPTEL_IITM.csv')\n",
    "df.head()"
   ]
  },
  {
   "cell_type": "code",
   "execution_count": 56,
   "metadata": {},
   "outputs": [],
   "source": [
    "tokens = ['!SIL' , '[NOISE]', '[VOCALIZED_NOISE]', '[LAUGHTER]']\n",
    "\n",
    "def remove_filler_tokens(transcription):\n",
    "    for local_token in tokens:\n",
    "        transcription = transcription.replace(local_token, '')\n",
    "        \n",
    "    return transcription"
   ]
  },
  {
   "cell_type": "code",
   "execution_count": 57,
   "metadata": {},
   "outputs": [],
   "source": [
    "pattern = re.compile(\"\\[(?:(?!/)(?:.|\\n))*/(?:(?!\\])(?:.|\\n))*\\]\")\n",
    "\n",
    "def remove_redundant_words(transcription):\n",
    "    positions = {}\n",
    "    \n",
    "    text_found = re.findall(pattern,transcription)\n",
    "    \n",
    "    for text in text_found:\n",
    "        positions[text] = transcription.index(text)\n",
    "\n",
    "    modified_transcription = transcription\n",
    "        \n",
    "    for key, value in positions.items():\n",
    "        if len(key) + int(value) == len(transcription):\n",
    "            new_word = key.split('/')[-1][:-1]\n",
    "            modified_transcription = modified_transcription[: value] + new_word\n",
    "        else:\n",
    "            modified_transcription = re.sub(pattern, '', modified_transcription)\n",
    "            \n",
    "    modified_transcription =  [word.strip() for word in modified_transcription.split()]\n",
    "    modified_transcription = ' '.join(modified_transcription)\n",
    "            \n",
    "    return modified_transcription"
   ]
  },
  {
   "cell_type": "code",
   "execution_count": 68,
   "metadata": {},
   "outputs": [],
   "source": [
    "chars_to_remove = ['\"','‘','˚','<','É','>', '|',  '\"','@', 'µ','ζ', '×', 'Õ', '“', '”', '–', 'μ', 'Ð', '!']\n",
    "\n",
    "def remove_special_characters(transcription):\n",
    "    for local_token in chars_to_remove:\n",
    "        transcription = transcription.replace(local_token, '')\n",
    "        \n",
    "    return transcription"
   ]
  },
  {
   "cell_type": "code",
   "execution_count": 58,
   "metadata": {},
   "outputs": [
    {
     "data": {
      "text/plain": [
       "'AH AS A GRAPH AND THEN CONSIDER VALUE THE VARIOUS STRUCTURAL VALUE'"
      ]
     },
     "execution_count": 58,
     "metadata": {},
     "output_type": "execute_result"
    }
   ],
   "source": [
    "test_str = '[NOISE] AH AS A [GRA/GRAPH] GRAPH !SIL AND [THE/THEN] THEN CONSIDER [VALii/VALUEii] VALUE THE VARIOUS STRUCTURAL [VAL/VALUE]'\n",
    "\n",
    "\n",
    "remove_redundant_words(remove_filler_tokens(test_str))"
   ]
  },
  {
   "cell_type": "code",
   "execution_count": 69,
   "metadata": {},
   "outputs": [],
   "source": [
    "def apply_transformations(transcription):\n",
    "    return remove_special_characters(remove_redundant_words(remove_filler_tokens(transcription)))"
   ]
  },
  {
   "cell_type": "code",
   "execution_count": 70,
   "metadata": {},
   "outputs": [],
   "source": [
    "df['transcription'] = df['transcription'].apply(apply_transformations)"
   ]
  },
  {
   "cell_type": "code",
   "execution_count": 78,
   "metadata": {},
   "outputs": [],
   "source": [
    "df.to_csv('train_NPTEL_IITM.csv', index=False)"
   ]
  },
  {
   "cell_type": "code",
   "execution_count": 71,
   "metadata": {},
   "outputs": [
    {
     "data": {
      "text/html": [
       "<div>\n",
       "<style scoped>\n",
       "    .dataframe tbody tr th:only-of-type {\n",
       "        vertical-align: middle;\n",
       "    }\n",
       "\n",
       "    .dataframe tbody tr th {\n",
       "        vertical-align: top;\n",
       "    }\n",
       "\n",
       "    .dataframe thead th {\n",
       "        text-align: right;\n",
       "    }\n",
       "</style>\n",
       "<table border=\"1\" class=\"dataframe\">\n",
       "  <thead>\n",
       "    <tr style=\"text-align: right;\">\n",
       "      <th></th>\n",
       "      <th>segment_id</th>\n",
       "      <th>file_id</th>\n",
       "      <th>start_time</th>\n",
       "      <th>end_time</th>\n",
       "      <th>transcription</th>\n",
       "      <th>file_path</th>\n",
       "      <th>duration</th>\n",
       "    </tr>\n",
       "  </thead>\n",
       "  <tbody>\n",
       "    <tr>\n",
       "      <th>0</th>\n",
       "      <td>106101061_lec005_002</td>\n",
       "      <td>106101061_lec005</td>\n",
       "      <td>57.519</td>\n",
       "      <td>63.249</td>\n",
       "      <td>IDEA OF A SOFTWARE DEVELOPMENT PROCESS AND WHA...</td>\n",
       "      <td>NPTEL_IITM_English_Challenge/Train_Dev/wav/NPT...</td>\n",
       "      <td>5.729999</td>\n",
       "    </tr>\n",
       "    <tr>\n",
       "      <th>1</th>\n",
       "      <td>106101061_lec005_004</td>\n",
       "      <td>106101061_lec005</td>\n",
       "      <td>68.220</td>\n",
       "      <td>73.570</td>\n",
       "      <td>EACH ONE OF THESE STEPS IN GREATER DETAIL AND ...</td>\n",
       "      <td>NPTEL_IITM_English_Challenge/Train_Dev/wav/NPT...</td>\n",
       "      <td>5.349998</td>\n",
       "    </tr>\n",
       "    <tr>\n",
       "      <th>2</th>\n",
       "      <td>106101061_lec005_005</td>\n",
       "      <td>106101061_lec005</td>\n",
       "      <td>73.570</td>\n",
       "      <td>79.929</td>\n",
       "      <td>OF THESE STAGES. THE FIRST STAGE IN THE PROCES...</td>\n",
       "      <td>NPTEL_IITM_English_Challenge/Train_Dev/wav/NPT...</td>\n",
       "      <td>6.359001</td>\n",
       "    </tr>\n",
       "    <tr>\n",
       "      <th>3</th>\n",
       "      <td>106101061_lec005_013</td>\n",
       "      <td>106101061_lec005</td>\n",
       "      <td>118.940</td>\n",
       "      <td>123.459</td>\n",
       "      <td>SPECIFICATIONS, AND TO TAKE A LOOK AT HOW THES...</td>\n",
       "      <td>NPTEL_IITM_English_Challenge/Train_Dev/wav/NPT...</td>\n",
       "      <td>4.518997</td>\n",
       "    </tr>\n",
       "    <tr>\n",
       "      <th>4</th>\n",
       "      <td>106101061_lec005_022</td>\n",
       "      <td>106101061_lec005</td>\n",
       "      <td>167.830</td>\n",
       "      <td>173.420</td>\n",
       "      <td>CONSTRAINTS UNDER WHICH THE SYSTEM IS EXPECTED...</td>\n",
       "      <td>NPTEL_IITM_English_Challenge/Train_Dev/wav/NPT...</td>\n",
       "      <td>5.589996</td>\n",
       "    </tr>\n",
       "  </tbody>\n",
       "</table>\n",
       "</div>"
      ],
      "text/plain": [
       "             segment_id           file_id  start_time  end_time  \\\n",
       "0  106101061_lec005_002  106101061_lec005      57.519    63.249   \n",
       "1  106101061_lec005_004  106101061_lec005      68.220    73.570   \n",
       "2  106101061_lec005_005  106101061_lec005      73.570    79.929   \n",
       "3  106101061_lec005_013  106101061_lec005     118.940   123.459   \n",
       "4  106101061_lec005_022  106101061_lec005     167.830   173.420   \n",
       "\n",
       "                                       transcription  \\\n",
       "0  IDEA OF A SOFTWARE DEVELOPMENT PROCESS AND WHA...   \n",
       "1  EACH ONE OF THESE STEPS IN GREATER DETAIL AND ...   \n",
       "2  OF THESE STAGES. THE FIRST STAGE IN THE PROCES...   \n",
       "3  SPECIFICATIONS, AND TO TAKE A LOOK AT HOW THES...   \n",
       "4  CONSTRAINTS UNDER WHICH THE SYSTEM IS EXPECTED...   \n",
       "\n",
       "                                           file_path  duration  \n",
       "0  NPTEL_IITM_English_Challenge/Train_Dev/wav/NPT...  5.729999  \n",
       "1  NPTEL_IITM_English_Challenge/Train_Dev/wav/NPT...  5.349998  \n",
       "2  NPTEL_IITM_English_Challenge/Train_Dev/wav/NPT...  6.359001  \n",
       "3  NPTEL_IITM_English_Challenge/Train_Dev/wav/NPT...  4.518997  \n",
       "4  NPTEL_IITM_English_Challenge/Train_Dev/wav/NPT...  5.589996  "
      ]
     },
     "execution_count": 71,
     "metadata": {},
     "output_type": "execute_result"
    }
   ],
   "source": [
    "df.head()"
   ]
  },
  {
   "cell_type": "code",
   "execution_count": 72,
   "metadata": {},
   "outputs": [],
   "source": [
    "all_text = \"\\n\".join(list(df.transcription.values))"
   ]
  },
  {
   "cell_type": "code",
   "execution_count": 73,
   "metadata": {},
   "outputs": [],
   "source": [
    "unique_chars = set(all_text)\n",
    "\n",
    "dict_counter = {}\n",
    "for char in unique_chars:\n",
    "    dict_counter[char] = all_text.count(char)\n",
    "    \n",
    "dict_sorted = {k: v for k, v in sorted(dict_counter.items(), key=lambda item: item[1])}"
   ]
  },
  {
   "cell_type": "code",
   "execution_count": 74,
   "metadata": {},
   "outputs": [],
   "source": [
    "import pprint"
   ]
  },
  {
   "cell_type": "code",
   "execution_count": 75,
   "metadata": {},
   "outputs": [
    {
     "name": "stdout",
     "output_type": "stream",
     "text": [
      "BUT NO SPECIAL CHARACTERS OR WHEN ITS PASSWORD SHOU[LD] ALWAYS HAVE AT LEAST ONE SPECIAL\n",
      "HAVE TO MEET ALL THE SPECIFICATIONS OF A PARENT CLA[SS]- NOW JUST TO RECAP WHAT POLYMORPHIC\n",
      "EFFECT OF THIS IS THAT THE MEMORY LOCATION WHICH IS BEING ADDRESSED IS OBTAINED BY [C\n",
      "DURING MANUFACTURING MANUFACTURING PROCE[SS]- WHEN THEY ARE MANUFACTURED AT THAT PARTICULAR\n",
      "SO WHEN IT REALIZES THE HARDWARE FOR C IT WILL NOT BE IMPLE[MENT]- IMPLEMENTING IT AS\n",
      "AND THIS CAN BE BETTE[R] EXPRESSED IN THE FORM A CROSS B UNION THEN A COMPLEMENT AND\n",
      "NOW HERE WHENEVER WE CONSIDER Y SO Y IS BASICALLY FOR ALL THE DISCOU[RSE]- ELEMENTS THAT IS\n",
      "AND SIMILARLY, WHEN I CONSIDER ELEMENTS OF ARRAY A, SO A[0][0] IS REPEATEDLY USED FOR\n",
      "WE WILL HAVE HUNDREDS OF INSTRUCTION THE MANUAL IS AR[OUND]- AROUND FIVE HUNDRED FIVE JUST\n",
      "OF THE OPERANDS WHICH ARE COMPILER WANTS COM[PILER]- WHO SUPPORTS DATA TYPES WHO IS RESPONSIBLE\n",
      "SO WE HAVE [DF BY DY DASH MULTIPLIED BY H] FROM X EQUAL TO A TO X EQUAL TO B SO THIS\n",
      "WHEN I APPLY THAT I CAN WRITE THE EXPRESSION IN A SIMPLIFIED NOTATION AS [φ X SQUARE\n",
      "THE OP AMP WITH[S] THE REAL OP AMP MODEL WHICH INCLUDES THE BIAS CURRENTS AND NOW LET US\n",
      "NOW TODAY WE ARE IMPORTING MORE THAN ONE LAKH [FL] WORTH OF ANTENNAS IN OUR COUNTRY AND\n",
      "AND GOVERNMENT IS PLANNING TO RAISE ABOUT FIVE POINT SIX LAKH [FL] SO FROM WHERE GOVERNMENT\n",
      "I WANT TO MENTION THAT IN INDIA WE IMPORT SEVERAL LAKH [FL] OF WORTH OF ANTENNA SO THERE\n",
      "THEN THIS HESSIAN IS AN N CROSS N MATRIX WITH THE IJTH MATRI[X]- ENTRY CORRESPONDING TO\n",
      "Y BAR - H X BAR SQUARE THE ERROR IS MINI[MIZED]. SO, WE WANT TO FIND THE BEST VECTOR X BAR\n",
      "THE LENGTH OF THE FIBER OR YOU ARE NOT REALLY INTERESTED IN THE LEN[GTH] ACTUAL LENGTH OF\n",
      "SET AS WELL AS ON THE TEST SET OF C P[OD]- AND THEN THAT WAS ALSO STORED DOWN AS A PICKLE\n",
      "I HAVE TWENTY EIGHT CROSS TWENTY EIGHT OR SEVEN HUN[DRED] AND SEVEN EIGHTY FOUR WEIGHTS\n"
     ]
    }
   ],
   "source": [
    "for i in all_text.split('\\n'):\n",
    "    if '[' in i:\n",
    "        print(i)"
   ]
  },
  {
   "cell_type": "code",
   "execution_count": null,
   "metadata": {},
   "outputs": [],
   "source": [
    "#greek_symbols =['φ','ɳ','ρ','~','ø','ε','β','τ',]"
   ]
  },
  {
   "cell_type": "code",
   "execution_count": 76,
   "metadata": {},
   "outputs": [
    {
     "data": {
      "text/plain": [
       "{'=': 19,\n",
       " '[': 22,\n",
       " ']': 22,\n",
       " ':': 47,\n",
       " 'φ': 71,\n",
       " 'ɳ': 73,\n",
       " 'ρ': 90,\n",
       " '~': 142,\n",
       " 'ø': 208,\n",
       " 'ε': 224,\n",
       " '/': 235,\n",
       " ')': 284,\n",
       " '(': 289,\n",
       " '∞': 320,\n",
       " '’': 334,\n",
       " 'β': 368,\n",
       " '7': 369,\n",
       " 'τ': 374,\n",
       " '9': 397,\n",
       " 'γ': 424,\n",
       " 'α': 491,\n",
       " 'π': 517,\n",
       " 'Δ': 518,\n",
       " \"'\": 519,\n",
       " 'θ': 573,\n",
       " 'λ': 659,\n",
       " '8': 667,\n",
       " '6': 730,\n",
       " '5': 994,\n",
       " '?': 1094,\n",
       " 'Ω': 1144,\n",
       " '4': 1155,\n",
       " '3': 1611,\n",
       " ';': 1963,\n",
       " '+': 3538,\n",
       " '-': 4130,\n",
       " '2': 4206,\n",
       " '0': 5589,\n",
       " '1': 6688,\n",
       " 'Z': 13479,\n",
       " 'J': 14246,\n",
       " 'Q': 19685,\n",
       " 'X': 31187,\n",
       " '.': 34209,\n",
       " ',': 37089,\n",
       " 'K': 72143,\n",
       " 'V': 115246,\n",
       " 'B': 142331,\n",
       " '\\n': 167929,\n",
       " 'Y': 172948,\n",
       " 'G': 187176,\n",
       " 'P': 202568,\n",
       " 'F': 205291,\n",
       " 'W': 219403,\n",
       " 'M': 229804,\n",
       " 'U': 282485,\n",
       " 'C': 323483,\n",
       " 'D': 331835,\n",
       " 'L': 403188,\n",
       " 'H': 545163,\n",
       " 'R': 576469,\n",
       " 'S': 694458,\n",
       " 'N': 695368,\n",
       " 'O': 779853,\n",
       " 'I': 788077,\n",
       " 'A': 837960,\n",
       " 'T': 1020032,\n",
       " 'E': 1242924,\n",
       " ' ': 2214552}"
      ]
     },
     "execution_count": 76,
     "metadata": {},
     "output_type": "execute_result"
    }
   ],
   "source": [
    "dict_sorted"
   ]
  },
  {
   "cell_type": "code",
   "execution_count": null,
   "metadata": {},
   "outputs": [],
   "source": []
  }
 ],
 "metadata": {
  "kernelspec": {
   "display_name": "Python 3",
   "language": "python",
   "name": "python3"
  },
  "language_info": {
   "codemirror_mode": {
    "name": "ipython",
    "version": 3
   },
   "file_extension": ".py",
   "mimetype": "text/x-python",
   "name": "python",
   "nbconvert_exporter": "python",
   "pygments_lexer": "ipython3",
   "version": "3.6.10"
  }
 },
 "nbformat": 4,
 "nbformat_minor": 4
}
